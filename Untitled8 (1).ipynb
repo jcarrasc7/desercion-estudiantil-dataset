{
  "nbformat": 4,
  "nbformat_minor": 0,
  "metadata": {
    "colab": {
      "provenance": []
    },
    "kernelspec": {
      "name": "python3",
      "display_name": "Python 3"
    },
    "language_info": {
      "name": "python"
    }
  },
  "cells": [
    {
      "cell_type": "code",
      "execution_count": 2,
      "metadata": {
        "colab": {
          "base_uri": "https://localhost:8080/",
          "height": 1000
        },
        "id": "6h5hmVz1XZGb",
        "outputId": "75626edd-ebe9-40f8-e963-ec9d75b49a41"
      },
      "outputs": [
        {
          "output_type": "stream",
          "name": "stdout",
          "text": [
            " Dataset creado con 500 registros y guardado en dataset_desercion.csv\n"
          ]
        },
        {
          "output_type": "display_data",
          "data": {
            "text/plain": [
              "<IPython.core.display.Javascript object>"
            ],
            "application/javascript": [
              "\n",
              "    async function download(id, filename, size) {\n",
              "      if (!google.colab.kernel.accessAllowed) {\n",
              "        return;\n",
              "      }\n",
              "      const div = document.createElement('div');\n",
              "      const label = document.createElement('label');\n",
              "      label.textContent = `Downloading \"${filename}\": `;\n",
              "      div.appendChild(label);\n",
              "      const progress = document.createElement('progress');\n",
              "      progress.max = size;\n",
              "      div.appendChild(progress);\n",
              "      document.body.appendChild(div);\n",
              "\n",
              "      const buffers = [];\n",
              "      let downloaded = 0;\n",
              "\n",
              "      const channel = await google.colab.kernel.comms.open(id);\n",
              "      // Send a message to notify the kernel that we're ready.\n",
              "      channel.send({})\n",
              "\n",
              "      for await (const message of channel.messages) {\n",
              "        // Send a message to notify the kernel that we're ready.\n",
              "        channel.send({})\n",
              "        if (message.buffers) {\n",
              "          for (const buffer of message.buffers) {\n",
              "            buffers.push(buffer);\n",
              "            downloaded += buffer.byteLength;\n",
              "            progress.value = downloaded;\n",
              "          }\n",
              "        }\n",
              "      }\n",
              "      const blob = new Blob(buffers, {type: 'application/binary'});\n",
              "      const a = document.createElement('a');\n",
              "      a.href = window.URL.createObjectURL(blob);\n",
              "      a.download = filename;\n",
              "      div.appendChild(a);\n",
              "      a.click();\n",
              "      div.remove();\n",
              "    }\n",
              "  "
            ]
          },
          "metadata": {}
        },
        {
          "output_type": "display_data",
          "data": {
            "text/plain": [
              "<IPython.core.display.Javascript object>"
            ],
            "application/javascript": [
              "download(\"download_86a13d2a-e047-40a3-a871-7172cd34431c\", \"dataset_desercion.csv\", 22687)"
            ]
          },
          "metadata": {}
        }
      ],
      "source": [
        "import pandas as pd\n",
        "import numpy as np\n",
        "import random\n",
        "\n",
        "\n",
        "n = 500\n",
        "np.random.seed(42)\n",
        "\n",
        "\n",
        "edad = np.random.randint(16, 30, size=n)\n",
        "genero = np.random.choice(['M', 'F'], size=n)\n",
        "lugar_origen = np.random.choice(['Urbano', 'Rural'], size=n)\n",
        "\n",
        "\n",
        "promedio_secundaria = np.round(np.random.uniform(2.0, 5.0, size=n), 2)\n",
        "examen_admision = np.random.randint(30, 100, size=n)\n",
        "notas_semestre1 = np.round(np.random.uniform(1.0, 5.0, size=n), 2)\n",
        "\n",
        "\n",
        "nivel_socioeco = np.random.choice(['Bajo', 'Medio', 'Alto'], size=n)\n",
        "beca = np.random.choice(['Sí', 'No'], size=n)\n",
        "prestamo = np.random.choice(['Sí', 'No'], size=n)\n",
        "\n",
        "\n",
        "abandono = np.random.choice(['Sí', 'No'], size=n, p=[0.3, 0.7])\n",
        "\n",
        "\n",
        "df = pd.DataFrame({\n",
        "    'id_estudiante': range(1, n+1),\n",
        "    'edad': edad,\n",
        "    'genero': genero,\n",
        "    'lugar_origen': lugar_origen,\n",
        "    'promedio_secundaria': promedio_secundaria,\n",
        "    'examen_admision': examen_admision,\n",
        "    'notas_semestre1': notas_semestre1,\n",
        "    'nivel_socioeco': nivel_socioeco,\n",
        "    'beca': beca,\n",
        "    'prestamo': prestamo,\n",
        "    'abandono': abandono\n",
        "})\n",
        "\n",
        "\n",
        "for col in ['promedio_secundaria', 'notas_semestre1', 'examen_admision']:\n",
        "    df.loc[df.sample(frac=0.05).index, col] = np.nan\n",
        "\n",
        "df.loc[df.sample(5).index, 'edad'] = 80\n",
        "df.loc[df.sample(5).index, 'promedio_secundaria'] = 10.0\n",
        "df.to_csv(\"dataset_desercion.csv\", index=False, encoding='utf-8-sig')\n",
        "\n",
        "print(\" Dataset creado con 500 registros y guardado en dataset_desercion.csv\")\n",
        "\n",
        "from google.colab import files\n",
        "files.download(\"dataset_desercion.csv\")"
      ]
    }
  ]
}